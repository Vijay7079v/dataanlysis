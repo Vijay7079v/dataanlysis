{
  "nbformat": 4,
  "nbformat_minor": 0,
  "metadata": {
    "colab": {
      "private_outputs": true,
      "provenance": []
    },
    "kernelspec": {
      "name": "python3",
      "display_name": "Python 3"
    },
    "language_info": {
      "name": "python"
    }
  },
  "cells": [
    {
      "cell_type": "code",
      "execution_count": null,
      "metadata": {
        "id": "N8jMSAmBcfLd"
      },
      "outputs": [],
      "source": []
    },
    {
      "cell_type": "markdown",
      "source": [
        "pyspark"
      ],
      "metadata": {
        "id": "lvxjOyNwcoT7"
      }
    },
    {
      "cell_type": "code",
      "source": [
        "#install apache spark 3.0.3 with hadoop 2.7\n",
        "!pip install pyspark==3.0.3"
      ],
      "metadata": {
        "id": "6jzdfhPucp_z"
      },
      "execution_count": null,
      "outputs": []
    },
    {
      "cell_type": "code",
      "source": [
        "#Import SparkSession from PySpark\n",
        "from pyspark.sql import SparkSession\n",
        "from pyspark.sql.functions import avg\n",
        "\n"
      ],
      "metadata": {
        "id": "lgWzumeUdqqL"
      },
      "execution_count": null,
      "outputs": []
    },
    {
      "cell_type": "code",
      "source": [
        "# Create a SparkSession\n",
        "\n",
        "spark= SparkSession.builder \\\n",
        "  .appName(\"Distributed ComputingExample\") \\\n",
        "  .getOrCreate()"
      ],
      "metadata": {
        "id": "AvxLKJ8meAGX"
      },
      "execution_count": null,
      "outputs": []
    },
    {
      "cell_type": "code",
      "source": [
        "# Load data from CSV file\n",
        "\n",
        "file_path=\"/content/diabetcsv.csv\"\n",
        "\n",
        "df= spark.read.csv(file_path, header=True, inferSchema=True)\n",
        "\n",
        "# Show the DataFrame\n",
        "\n",
        "df.show()"
      ],
      "metadata": {
        "id": "N_Ay36EnetjB"
      },
      "execution_count": null,
      "outputs": []
    },
    {
      "cell_type": "code",
      "source": [
        "# Calculate mean mass per age group\n",
        "mean_mass_per_age_group = df.groupBy(\"age\").agg(avg(\"mass\").alias(\"Mean_Mass\"))\n",
        "# Show the mean mass per age group\n",
        "mean_mass_per_age_group.show()\n",
        "df.show()\n",
        "#Stop the SparkSession\n",
        "spark.stop()"
      ],
      "metadata": {
        "id": "YfvMtvzugNA8"
      },
      "execution_count": null,
      "outputs": []
    }
  ]
}