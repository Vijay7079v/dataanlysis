{
  "nbformat": 4,
  "nbformat_minor": 0,
  "metadata": {
    "colab": {
      "private_outputs": true,
      "provenance": []
    },
    "kernelspec": {
      "name": "python3",
      "display_name": "Python 3"
    },
    "language_info": {
      "name": "python"
    }
  },
  "cells": [
    {
      "cell_type": "code",
      "execution_count": null,
      "metadata": {
        "id": "8zbJU8aKgzYA"
      },
      "outputs": [],
      "source": []
    },
    {
      "cell_type": "markdown",
      "source": [],
      "metadata": {
        "id": "2eg0vz7jhgAY"
      }
    },
    {
      "cell_type": "markdown",
      "source": [
        "analyzing data against datavstime"
      ],
      "metadata": {
        "id": "S5cQEtkwhgMt"
      }
    },
    {
      "cell_type": "code",
      "source": [
        "import pandas as pd\n",
        "import matplotlib.pyplot as plt"
      ],
      "metadata": {
        "id": "JqGQ2uX7hlDx"
      },
      "execution_count": null,
      "outputs": []
    },
    {
      "cell_type": "code",
      "source": [
        "#assyming 'data csv' contains time series data with a 'date' column\n",
        "df=pd.read_csv('/content/demand_june.csv',parse_dates=['date'],index_col='date')"
      ],
      "metadata": {
        "id": "TRUP_Qd4iUEc"
      },
      "execution_count": null,
      "outputs": []
    },
    {
      "cell_type": "code",
      "source": [
        "# Display first few rows\n",
        "\n",
        "print(df.head())\n",
        "\n",
        "#Summary statistics\n",
        "\n",
        "print(df.describe())\n",
        "\n",
        "# Plot the time series data\n",
        "\n",
        "df.plot()\n",
        "\n",
        "plt.xlabel('Date')\n",
        "\n",
        "plt.ylabel('Value')\n",
        "\n",
        "plt.title('Time Series Data')\n",
        "\n",
        "plt.show()"
      ],
      "metadata": {
        "id": "dFdJBC3FigBr"
      },
      "execution_count": null,
      "outputs": []
    },
    {
      "cell_type": "code",
      "source": [
        "\n",
        "#Select data for a specific date range\n",
        "subset = df['2023-01-01':'2023-12-31']\n",
        "print(subset)\n",
        "subset.plot()"
      ],
      "metadata": {
        "id": "jBeNaRD4j9Fv"
      },
      "execution_count": null,
      "outputs": []
    }
  ]
}